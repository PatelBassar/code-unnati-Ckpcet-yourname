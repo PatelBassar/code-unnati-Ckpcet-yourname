{
 "cells": [
  {
   "cell_type": "markdown",
   "id": "49db05a6",
   "metadata": {},
   "source": [
    "# Unit 1 Python Fundamentals"
   ]
  },
  {
   "cell_type": "code",
   "execution_count": 1,
   "id": "0ef4f002",
   "metadata": {},
   "outputs": [
    {
     "name": "stdout",
     "output_type": "stream",
     "text": [
      "Namaste CKPCET\n"
     ]
    }
   ],
   "source": [
    "#my first python program\n",
    "\n",
    "print(\"Namaste CKPCET\")"
   ]
  },
  {
   "cell_type": "code",
   "execution_count": 2,
   "id": "c6f7cc84",
   "metadata": {},
   "outputs": [
    {
     "name": "stdout",
     "output_type": "stream",
     "text": [
      "hello Surat!!\n"
     ]
    }
   ],
   "source": [
    "#my first python program\n",
    "\n",
    "print(\"hello Surat!!\")"
   ]
  },
  {
   "cell_type": "code",
   "execution_count": 3,
   "id": "2f35201d",
   "metadata": {},
   "outputs": [
    {
     "data": {
      "text/plain": [
       "33"
      ]
     },
     "execution_count": 3,
     "metadata": {},
     "output_type": "execute_result"
    }
   ],
   "source": [
    "a=33\n",
    "a"
   ]
  },
  {
   "cell_type": "code",
   "execution_count": 4,
   "id": "560ab9af",
   "metadata": {},
   "outputs": [
    {
     "data": {
      "text/plain": [
       "33"
      ]
     },
     "execution_count": 4,
     "metadata": {},
     "output_type": "execute_result"
    }
   ],
   "source": [
    "a"
   ]
  },
  {
   "cell_type": "code",
   "execution_count": 5,
   "id": "42b89771",
   "metadata": {},
   "outputs": [],
   "source": [
    "A= 50 # Int\n",
    "\n",
    "B=99.99 #Float\n",
    "C=\"Ckpcet\" #string\n",
    "D= True #Bool"
   ]
  },
  {
   "cell_type": "code",
   "execution_count": 6,
   "id": "0df39247",
   "metadata": {},
   "outputs": [
    {
     "data": {
      "text/plain": [
       "True"
      ]
     },
     "execution_count": 6,
     "metadata": {},
     "output_type": "execute_result"
    }
   ],
   "source": [
    "D"
   ]
  },
  {
   "cell_type": "code",
   "execution_count": 7,
   "id": "49c13711",
   "metadata": {},
   "outputs": [
    {
     "data": {
      "text/plain": [
       "int"
      ]
     },
     "execution_count": 7,
     "metadata": {},
     "output_type": "execute_result"
    }
   ],
   "source": [
    "type(A)"
   ]
  },
  {
   "cell_type": "code",
   "execution_count": 8,
   "id": "c3712108",
   "metadata": {},
   "outputs": [
    {
     "data": {
      "text/plain": [
       "float"
      ]
     },
     "execution_count": 8,
     "metadata": {},
     "output_type": "execute_result"
    }
   ],
   "source": [
    "type(B)"
   ]
  },
  {
   "cell_type": "code",
   "execution_count": 9,
   "id": "2d720afa",
   "metadata": {},
   "outputs": [
    {
     "data": {
      "text/plain": [
       "str"
      ]
     },
     "execution_count": 9,
     "metadata": {},
     "output_type": "execute_result"
    }
   ],
   "source": [
    "type(C)"
   ]
  },
  {
   "cell_type": "code",
   "execution_count": 10,
   "id": "8a8ca998",
   "metadata": {},
   "outputs": [
    {
     "data": {
      "text/plain": [
       "bool"
      ]
     },
     "execution_count": 10,
     "metadata": {},
     "output_type": "execute_result"
    }
   ],
   "source": [
    "type(D)"
   ]
  },
  {
   "cell_type": "code",
   "execution_count": 11,
   "id": "32e78e55",
   "metadata": {},
   "outputs": [],
   "source": [
    "#math operations on Variables"
   ]
  },
  {
   "cell_type": "code",
   "execution_count": 12,
   "id": "c98308f4",
   "metadata": {},
   "outputs": [
    {
     "data": {
      "text/plain": [
       "99.99"
      ]
     },
     "execution_count": 12,
     "metadata": {},
     "output_type": "execute_result"
    }
   ],
   "source": [
    "B"
   ]
  },
  {
   "cell_type": "code",
   "execution_count": 13,
   "id": "f83e6a8f",
   "metadata": {},
   "outputs": [
    {
     "data": {
      "text/plain": [
       "1.9997999999999998"
      ]
     },
     "execution_count": 13,
     "metadata": {},
     "output_type": "execute_result"
    }
   ],
   "source": [
    "var1=B/A\n",
    "var1"
   ]
  },
  {
   "cell_type": "code",
   "execution_count": 14,
   "id": "02b9dc25",
   "metadata": {},
   "outputs": [
    {
     "data": {
      "text/plain": [
       "149.99"
      ]
     },
     "execution_count": 14,
     "metadata": {},
     "output_type": "execute_result"
    }
   ],
   "source": [
    "x=A+B\n",
    "x"
   ]
  },
  {
   "cell_type": "code",
   "execution_count": 15,
   "id": "dbafe39a",
   "metadata": {},
   "outputs": [
    {
     "name": "stdout",
     "output_type": "stream",
     "text": [
      "Enter the value of x : \n"
     ]
    },
    {
     "ename": "ValueError",
     "evalue": "invalid literal for int() with base 10: ''",
     "output_type": "error",
     "traceback": [
      "\u001b[1;31m---------------------------------------------------------------------------\u001b[0m",
      "\u001b[1;31mValueError\u001b[0m                                Traceback (most recent call last)",
      "Input \u001b[1;32mIn [15]\u001b[0m, in \u001b[0;36m<cell line: 5>\u001b[1;34m()\u001b[0m\n\u001b[0;32m      1\u001b[0m \u001b[38;5;66;03m#use input keyword to take input from user\u001b[39;00m\n\u001b[0;32m      2\u001b[0m \n\u001b[0;32m      3\u001b[0m \u001b[38;5;66;03m#aks user to enter the value and store it in varialbe x\u001b[39;00m\n\u001b[1;32m----> 5\u001b[0m x \u001b[38;5;241m=\u001b[39m \u001b[38;5;28;43mint\u001b[39;49m\u001b[43m(\u001b[49m\u001b[38;5;28;43minput\u001b[39;49m\u001b[43m(\u001b[49m\u001b[38;5;124;43m\"\u001b[39;49m\u001b[38;5;124;43mEnter the value of x : \u001b[39;49m\u001b[38;5;124;43m\"\u001b[39;49m\u001b[43m)\u001b[49m\u001b[43m)\u001b[49m\n\u001b[0;32m      7\u001b[0m \u001b[38;5;66;03m#aks user to enter the value and store it in varialbe y\u001b[39;00m\n\u001b[0;32m      9\u001b[0m y \u001b[38;5;241m=\u001b[39m \u001b[38;5;28mint\u001b[39m(\u001b[38;5;28minput\u001b[39m(\u001b[38;5;124m\"\u001b[39m\u001b[38;5;124mEnter the value of y : \u001b[39m\u001b[38;5;124m\"\u001b[39m))\n",
      "\u001b[1;31mValueError\u001b[0m: invalid literal for int() with base 10: ''"
     ]
    }
   ],
   "source": [
    "#use input keyword to take input from user\n",
    "\n",
    "#aks user to enter the value and store it in varialbe x\n",
    "\n",
    "x = int(input(\"Enter the value of x : \"))\n",
    "\n",
    "#aks user to enter the value and store it in varialbe y\n",
    "\n",
    "y = int(input(\"Enter the value of y : \"))\n",
    "\n"
   ]
  },
  {
   "cell_type": "code",
   "execution_count": 16,
   "id": "57c3cea6",
   "metadata": {},
   "outputs": [
    {
     "ename": "NameError",
     "evalue": "name 'y' is not defined",
     "output_type": "error",
     "traceback": [
      "\u001b[1;31m---------------------------------------------------------------------------\u001b[0m",
      "\u001b[1;31mNameError\u001b[0m                                 Traceback (most recent call last)",
      "Input \u001b[1;32mIn [16]\u001b[0m, in \u001b[0;36m<cell line: 1>\u001b[1;34m()\u001b[0m\n\u001b[1;32m----> 1\u001b[0m z\u001b[38;5;241m=\u001b[39mx\u001b[38;5;241m*\u001b[39m\u001b[43my\u001b[49m\n",
      "\u001b[1;31mNameError\u001b[0m: name 'y' is not defined"
     ]
    }
   ],
   "source": [
    "z=x*y"
   ]
  },
  {
   "cell_type": "code",
   "execution_count": 17,
   "id": "b66f60d9",
   "metadata": {},
   "outputs": [
    {
     "ename": "NameError",
     "evalue": "name 'z' is not defined",
     "output_type": "error",
     "traceback": [
      "\u001b[1;31m---------------------------------------------------------------------------\u001b[0m",
      "\u001b[1;31mNameError\u001b[0m                                 Traceback (most recent call last)",
      "Input \u001b[1;32mIn [17]\u001b[0m, in \u001b[0;36m<cell line: 1>\u001b[1;34m()\u001b[0m\n\u001b[1;32m----> 1\u001b[0m \u001b[43mz\u001b[49m\n",
      "\u001b[1;31mNameError\u001b[0m: name 'z' is not defined"
     ]
    }
   ],
   "source": [
    "z"
   ]
  },
  {
   "cell_type": "code",
   "execution_count": 18,
   "id": "0f13c71f",
   "metadata": {},
   "outputs": [
    {
     "data": {
      "text/plain": [
       "'c.k.Pithawalla'"
      ]
     },
     "execution_count": 18,
     "metadata": {},
     "output_type": "execute_result"
    }
   ],
   "source": [
    "#string Concatenation\n",
    "str1=\"c.k.\"\n",
    "str2=\"Pithawalla\"\n",
    "str3=str1 + str2\n",
    "str3"
   ]
  },
  {
   "cell_type": "code",
   "execution_count": 19,
   "id": "d7880714",
   "metadata": {},
   "outputs": [
    {
     "name": "stdout",
     "output_type": "stream",
     "text": [
      "14\n"
     ]
    }
   ],
   "source": [
    "print(len(str3))"
   ]
  },
  {
   "cell_type": "code",
   "execution_count": null,
   "id": "8a2d3a67",
   "metadata": {},
   "outputs": [],
   "source": [
    "#string slicing"
   ]
  },
  {
   "cell_type": "code",
   "execution_count": 21,
   "id": "bd2f439a",
   "metadata": {},
   "outputs": [
    {
     "data": {
      "text/plain": [
       "'c.k.'"
      ]
     },
     "execution_count": 21,
     "metadata": {},
     "output_type": "execute_result"
    }
   ],
   "source": [
    "str3[0:4]"
   ]
  },
  {
   "cell_type": "code",
   "execution_count": 28,
   "id": "97fb852b",
   "metadata": {},
   "outputs": [
    {
     "data": {
      "text/plain": [
       "'walla'"
      ]
     },
     "execution_count": 28,
     "metadata": {},
     "output_type": "execute_result"
    }
   ],
   "source": [
    "str3[9:14]"
   ]
  },
  {
   "cell_type": "markdown",
   "id": "6249745c",
   "metadata": {},
   "source": [
    "# create tuples"
   ]
  },
  {
   "cell_type": "code",
   "execution_count": 29,
   "id": "6c4687ac",
   "metadata": {},
   "outputs": [
    {
     "name": "stdout",
     "output_type": "stream",
     "text": [
      "('parul', 22, 'Bharat', 45.5, 'vadodara', 99)\n",
      "<class 'tuple'>\n"
     ]
    }
   ],
   "source": [
    "tup1 = (\"parul\", 22, \"Bharat\", 45.5, \"vadodara\", 99)\n",
    "\n",
    "print(tup1)\n",
    "print(type(tup1))"
   ]
  },
  {
   "cell_type": "code",
   "execution_count": 30,
   "id": "61d89cfa",
   "metadata": {},
   "outputs": [
    {
     "data": {
      "text/plain": [
       "'vadodara'"
      ]
     },
     "execution_count": 30,
     "metadata": {},
     "output_type": "execute_result"
    }
   ],
   "source": [
    "tup1[4]"
   ]
  },
  {
   "cell_type": "code",
   "execution_count": 31,
   "id": "d8206b9e",
   "metadata": {},
   "outputs": [
    {
     "data": {
      "text/plain": [
       "('Bharat', 45.5)"
      ]
     },
     "execution_count": 31,
     "metadata": {},
     "output_type": "execute_result"
    }
   ],
   "source": [
    "tup1[2:4]"
   ]
  },
  {
   "cell_type": "code",
   "execution_count": 32,
   "id": "58d87a28",
   "metadata": {},
   "outputs": [
    {
     "name": "stdout",
     "output_type": "stream",
     "text": [
      "('parul', 22, 'Bharat', 45.5, 'vadodara', 99, 'python', 87)\n"
     ]
    }
   ],
   "source": [
    "tup2=(\"python\", 87)\n",
    "\n",
    "tup3 = tup1 + tup2\n",
    "print(tup3)"
   ]
  },
  {
   "cell_type": "code",
   "execution_count": 33,
   "id": "73c22083",
   "metadata": {},
   "outputs": [
    {
     "ename": "TypeError",
     "evalue": "'tuple' object doesn't support item deletion",
     "output_type": "error",
     "traceback": [
      "\u001b[1;31m---------------------------------------------------------------------------\u001b[0m",
      "\u001b[1;31mTypeError\u001b[0m                                 Traceback (most recent call last)",
      "Input \u001b[1;32mIn [33]\u001b[0m, in \u001b[0;36m<cell line: 3>\u001b[1;34m()\u001b[0m\n\u001b[0;32m      1\u001b[0m \u001b[38;5;66;03m#immutable \u001b[39;00m\n\u001b[1;32m----> 3\u001b[0m \u001b[38;5;28;01mdel\u001b[39;00m tup3[\u001b[38;5;241m3\u001b[39m]\n\u001b[0;32m      4\u001b[0m \u001b[38;5;28mprint\u001b[39m(tup3)\n",
      "\u001b[1;31mTypeError\u001b[0m: 'tuple' object doesn't support item deletion"
     ]
    }
   ],
   "source": [
    "#immutable \n",
    "\n",
    "del tup3[3]\n",
    "print(tup3)"
   ]
  },
  {
   "cell_type": "markdown",
   "id": "7092b4f4",
   "metadata": {},
   "source": [
    "# List in Python"
   ]
  },
  {
   "cell_type": "code",
   "execution_count": 35,
   "id": "b364bee3",
   "metadata": {},
   "outputs": [
    {
     "name": "stdout",
     "output_type": "stream",
     "text": [
      "['parul', 22, 'Bharat', 45.5, 'vadodara', 99]\n",
      "<class 'list'>\n"
     ]
    }
   ],
   "source": [
    "#create list\n",
    "\n",
    "\n",
    "\n",
    "lst1 = [\"parul\", 22, \"Bharat\", 45.5, \"vadodara\", 99]\n",
    "print(lst1)\n",
    "\n",
    "print(type(lst1))"
   ]
  },
  {
   "cell_type": "code",
   "execution_count": 36,
   "id": "f9047d54",
   "metadata": {},
   "outputs": [
    {
     "data": {
      "text/plain": [
       "6"
      ]
     },
     "execution_count": 36,
     "metadata": {},
     "output_type": "execute_result"
    }
   ],
   "source": [
    "len(lst1)"
   ]
  },
  {
   "cell_type": "code",
   "execution_count": 37,
   "id": "487d95c9",
   "metadata": {},
   "outputs": [],
   "source": [
    "lst1.remove(22)"
   ]
  },
  {
   "cell_type": "code",
   "execution_count": 38,
   "id": "341a4329",
   "metadata": {},
   "outputs": [
    {
     "data": {
      "text/plain": [
       "['parul', 'Bharat', 45.5, 'vadodara', 99]"
      ]
     },
     "execution_count": 38,
     "metadata": {},
     "output_type": "execute_result"
    }
   ],
   "source": [
    "lst1"
   ]
  },
  {
   "cell_type": "markdown",
   "id": "459d6a25",
   "metadata": {},
   "source": [
    "# Disctionary"
   ]
  },
  {
   "cell_type": "code",
   "execution_count": 39,
   "id": "a061751f",
   "metadata": {},
   "outputs": [
    {
     "name": "stdout",
     "output_type": "stream",
     "text": [
      "{'University': 'CKP surat', 'Course': 'Artificial Intelligence', 'Branch': 'Electronics'}\n"
     ]
    }
   ],
   "source": [
    "dict1 = { \"University\" : \"CKP surat\", \"Course\" : \"Artificial Intelligence\", \"Branch\": \"Electronics\"}\n",
    "print(dict1)"
   ]
  },
  {
   "cell_type": "code",
   "execution_count": 41,
   "id": "c8edd658",
   "metadata": {},
   "outputs": [
    {
     "name": "stdout",
     "output_type": "stream",
     "text": [
      "3\n"
     ]
    },
    {
     "data": {
      "text/plain": [
       "dict"
      ]
     },
     "execution_count": 41,
     "metadata": {},
     "output_type": "execute_result"
    }
   ],
   "source": [
    "print(len(dict1))\n",
    "type(dict1)"
   ]
  },
  {
   "cell_type": "markdown",
   "id": "900e905b",
   "metadata": {},
   "source": [
    "# Python Conditional Statement"
   ]
  },
  {
   "cell_type": "code",
   "execution_count": 46,
   "id": "86b8d203",
   "metadata": {},
   "outputs": [
    {
     "name": "stdout",
     "output_type": "stream",
     "text": [
      "15 is a Positive Number\n",
      "This statement is true\n"
     ]
    }
   ],
   "source": [
    "#If statement\n",
    "\n",
    "num= 15\n",
    "if num > 10:\n",
    "    print(num, \"is a Positive Number\")\n",
    "    print(\"This statement is true\")"
   ]
  },
  {
   "cell_type": "code",
   "execution_count": 48,
   "id": "9f0cc8b9",
   "metadata": {},
   "outputs": [
    {
     "name": "stdout",
     "output_type": "stream",
     "text": [
      "Negetive Number\n"
     ]
    }
   ],
   "source": [
    "#if else statement\n",
    "\n",
    "num= -5\n",
    "if num > 0:\n",
    "    print(num, \"is a Positive Number\")\n",
    "else:\n",
    "    print(\"Negetive Number\")"
   ]
  },
  {
   "cell_type": "code",
   "execution_count": null,
   "id": "eea83fae",
   "metadata": {},
   "outputs": [],
   "source": []
  }
 ],
 "metadata": {
  "kernelspec": {
   "display_name": "Python 3 (ipykernel)",
   "language": "python",
   "name": "python3"
  },
  "language_info": {
   "codemirror_mode": {
    "name": "ipython",
    "version": 3
   },
   "file_extension": ".py",
   "mimetype": "text/x-python",
   "name": "python",
   "nbconvert_exporter": "python",
   "pygments_lexer": "ipython3",
   "version": "3.9.12"
  }
 },
 "nbformat": 4,
 "nbformat_minor": 5
}
