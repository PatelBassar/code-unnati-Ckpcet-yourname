{
 "cells": [
  {
   "cell_type": "markdown",
   "id": "b1371adf",
   "metadata": {},
   "source": [
    "# Numpy"
   ]
  },
  {
   "cell_type": "code",
   "execution_count": 3,
   "id": "25116e68",
   "metadata": {},
   "outputs": [],
   "source": [
    "#Import Numpy Library\n",
    "\n",
    "import numpy as np"
   ]
  },
  {
   "cell_type": "code",
   "execution_count": 4,
   "id": "b31df62f",
   "metadata": {},
   "outputs": [
    {
     "data": {
      "text/plain": [
       "array([[1, 2, 3, 4],\n",
       "       [5, 6, 7, 8]])"
      ]
     },
     "execution_count": 4,
     "metadata": {},
     "output_type": "execute_result"
    }
   ],
   "source": [
    "#create simple array from the list\n",
    "\n",
    "arr = np.array([[1,2,33,4],[5,6,7,8]])\n",
    "arr"
   ]
  },
  {
   "cell_type": "code",
   "execution_count": 5,
   "id": "63085e72",
   "metadata": {},
   "outputs": [
    {
     "data": {
      "text/plain": [
       "numpy.ndarray"
      ]
     },
     "execution_count": 5,
     "metadata": {},
     "output_type": "execute_result"
    }
   ],
   "source": [
    "type(arr)"
   ]
  },
  {
   "cell_type": "code",
   "execution_count": 6,
   "id": "b97b02ef",
   "metadata": {},
   "outputs": [
    {
     "data": {
      "text/plain": [
       "2"
      ]
     },
     "execution_count": 6,
     "metadata": {},
     "output_type": "execute_result"
    }
   ],
   "source": [
    "arr.ndim"
   ]
  },
  {
   "cell_type": "code",
   "execution_count": 7,
   "id": "9ff75db8",
   "metadata": {},
   "outputs": [
    {
     "data": {
      "text/plain": [
       "(2, 4)"
      ]
     },
     "execution_count": 7,
     "metadata": {},
     "output_type": "execute_result"
    }
   ],
   "source": [
    "#shape of the array\n",
    "\n",
    "arr.shape"
   ]
  },
  {
   "cell_type": "code",
   "execution_count": 8,
   "id": "4de6f229",
   "metadata": {},
   "outputs": [],
   "source": [
    "arr = np.array([1,2,3,4])"
   ]
  },
  {
   "cell_type": "code",
   "execution_count": 9,
   "id": "9fc9e4d6",
   "metadata": {},
   "outputs": [
    {
     "data": {
      "text/plain": [
       "array([1, 2, 3, 4])"
      ]
     },
     "execution_count": 9,
     "metadata": {},
     "output_type": "execute_result"
    }
   ],
   "source": [
    "arr"
   ]
  },
  {
   "cell_type": "code",
   "execution_count": 10,
   "id": "5e13d250",
   "metadata": {},
   "outputs": [
    {
     "data": {
      "text/plain": [
       "1"
      ]
     },
     "execution_count": 10,
     "metadata": {},
     "output_type": "execute_result"
    }
   ],
   "source": [
    "arr.ndim"
   ]
  },
  {
   "cell_type": "code",
   "execution_count": 13,
   "id": "f2f97fd5",
   "metadata": {},
   "outputs": [],
   "source": [
    "arr3 = np.array([[1,2,33,4,58],[5,6,7,8,89],[89,16,17,88,25]])"
   ]
  },
  {
   "cell_type": "code",
   "execution_count": 16,
   "id": "b817354c",
   "metadata": {},
   "outputs": [
    {
     "data": {
      "text/plain": [
       "(3, 5)"
      ]
     },
     "execution_count": 16,
     "metadata": {},
     "output_type": "execute_result"
    }
   ],
   "source": [
    "arr3.shape"
   ]
  },
  {
   "cell_type": "code",
   "execution_count": 15,
   "id": "cb56ab58",
   "metadata": {},
   "outputs": [
    {
     "data": {
      "text/plain": [
       "array([[ 1,  2, 33,  4, 58],\n",
       "       [ 5,  6,  7,  8, 89],\n",
       "       [89, 16, 17, 88, 25]])"
      ]
     },
     "execution_count": 15,
     "metadata": {},
     "output_type": "execute_result"
    }
   ],
   "source": [
    "arr3"
   ]
  },
  {
   "cell_type": "code",
   "execution_count": 20,
   "id": "2bd3896d",
   "metadata": {},
   "outputs": [
    {
     "data": {
      "text/plain": [
       "<memory at 0x0000019F3AAF1C40>"
      ]
     },
     "execution_count": 20,
     "metadata": {},
     "output_type": "execute_result"
    }
   ],
   "source": [
    "arr.data\n"
   ]
  },
  {
   "cell_type": "markdown",
   "id": "cc6be859",
   "metadata": {},
   "source": [
    "# Random Number Generator using numpy"
   ]
  },
  {
   "cell_type": "code",
   "execution_count": 21,
   "id": "7fef5a01",
   "metadata": {},
   "outputs": [],
   "source": [
    "from numpy import random"
   ]
  },
  {
   "cell_type": "code",
   "execution_count": 28,
   "id": "0766f38c",
   "metadata": {},
   "outputs": [
    {
     "name": "stdout",
     "output_type": "stream",
     "text": [
      "5\n"
     ]
    }
   ],
   "source": [
    "from numpy import random\n",
    "x= random.randint(10)\n",
    "print(x)"
   ]
  },
  {
   "cell_type": "code",
   "execution_count": 33,
   "id": "c80c2649",
   "metadata": {},
   "outputs": [],
   "source": [
    "x= random.randint(1000)\n",
    "y= random.randint(1000)\n",
    "z= random.randint(1000)\n",
    "w= random.randint(1000)\n",
    "e= random.randint(1000)"
   ]
  },
  {
   "cell_type": "code",
   "execution_count": 34,
   "id": "ff7eb6ca",
   "metadata": {},
   "outputs": [
    {
     "name": "stdout",
     "output_type": "stream",
     "text": [
      "706\n",
      "592\n",
      "384\n",
      "773\n",
      "702\n"
     ]
    }
   ],
   "source": [
    "print(x)\n",
    "print(y)\n",
    "print(z)\n",
    "print(w)\n",
    "print(e)"
   ]
  },
  {
   "cell_type": "code",
   "execution_count": 35,
   "id": "a6eb62a1",
   "metadata": {},
   "outputs": [
    {
     "name": "stdout",
     "output_type": "stream",
     "text": [
      "0.17653743485944062\n"
     ]
    }
   ],
   "source": [
    "#Generate Random Float\n",
    "\n",
    "x= random.rand()\n",
    "print(x)"
   ]
  },
  {
   "cell_type": "code",
   "execution_count": 38,
   "id": "61cc6455",
   "metadata": {},
   "outputs": [
    {
     "name": "stdout",
     "output_type": "stream",
     "text": [
      "0.2566230038469848\n",
      "0.6479977465292327\n",
      "0.5030640593763117\n",
      "0.8729679687145558\n",
      "0.5551289860988066\n",
      "0.361663497653408\n",
      "0.7520154209853722\n",
      "0.717715928907141\n",
      "0.6932316262930102\n",
      "0.617208629740413\n",
      "0.5724015917785852\n",
      "0.029281653228062754\n",
      "0.7240195787443743\n",
      "0.2976358125644134\n",
      "0.10089944702255016\n",
      "0.19884035068609307\n",
      "0.013788777477672931\n",
      "0.581498127808266\n",
      "0.1699334057321773\n",
      "0.9077137565027587\n",
      "0.3830359724726946\n",
      "0.37717758242799815\n",
      "0.8243389197391374\n",
      "0.8104688214772408\n",
      "0.9233574927975129\n",
      "0.7778434824616598\n",
      "0.180934019753608\n",
      "0.7770122050144058\n",
      "0.5724820072764764\n",
      "0.6320232365120437\n",
      "0.3463043391373608\n",
      "0.3558673685959066\n",
      "0.3029696160958898\n",
      "0.6891127075460423\n",
      "0.8564227660894516\n",
      "0.6880093498543365\n",
      "0.10298392561880754\n",
      "0.0506415650835037\n",
      "0.15251371788720358\n",
      "0.563444090590141\n"
     ]
    }
   ],
   "source": [
    "for i in range(40):\n",
    "    x= random.rand()\n",
    "    print(x)\n"
   ]
  },
  {
   "cell_type": "code",
   "execution_count": 42,
   "id": "9f60ec6f",
   "metadata": {},
   "outputs": [
    {
     "name": "stdout",
     "output_type": "stream",
     "text": [
      "[49 16 73  4 42]\n"
     ]
    }
   ],
   "source": [
    "#Generate Random Array\n",
    "\n",
    "from numpy import random\n",
    "x= random.randint(100, size=(5))\n",
    "print(x)"
   ]
  },
  {
   "cell_type": "code",
   "execution_count": 44,
   "id": "3609fa07",
   "metadata": {},
   "outputs": [
    {
     "name": "stdout",
     "output_type": "stream",
     "text": [
      "[[96 18 64 43 69 40 50 67 56 11]\n",
      " [15 90 92 53 15 73 61 67 88  9]\n",
      " [22  6  4 27 79 70  6 51 86 45]]\n"
     ]
    }
   ],
   "source": [
    "#Generate a 2-D array with 3 rows, each row containing 5 random integers from 0 to 100\n",
    "\n",
    "from numpy import random\n",
    "x= random.randint(100, size=(3, 10))\n",
    "print(x)\n"
   ]
  },
  {
   "cell_type": "code",
   "execution_count": 45,
   "id": "cd34cd7f",
   "metadata": {},
   "outputs": [
    {
     "data": {
      "text/plain": [
       "(3, 10)"
      ]
     },
     "execution_count": 45,
     "metadata": {},
     "output_type": "execute_result"
    }
   ],
   "source": [
    "x.shape"
   ]
  },
  {
   "cell_type": "markdown",
   "id": "8a77cf61",
   "metadata": {},
   "source": [
    "# Measure of Central Tendency"
   ]
  },
  {
   "cell_type": "code",
   "execution_count": 46,
   "id": "c62ba06e",
   "metadata": {},
   "outputs": [
    {
     "name": "stdout",
     "output_type": "stream",
     "text": [
      "[[ 1 23 78]\n",
      " [98 60 75]\n",
      " [79 25 48]]\n",
      "1\n",
      "98\n"
     ]
    }
   ],
   "source": [
    "import numpy as np\n",
    "\n",
    "arr = np.array([[1,23,78], [98,60,75],[79,25,48]])\n",
    "print(arr)\n",
    "\n",
    "#min function\n",
    "print(np.amin(arr))\n",
    "#max function\n",
    "print(np.amax(arr))"
   ]
  },
  {
   "cell_type": "code",
   "execution_count": 47,
   "id": "b95bc072",
   "metadata": {},
   "outputs": [
    {
     "data": {
      "text/plain": [
       "54.111111111111114"
      ]
     },
     "execution_count": 47,
     "metadata": {},
     "output_type": "execute_result"
    }
   ],
   "source": [
    "np.mean(arr)"
   ]
  },
  {
   "cell_type": "code",
   "execution_count": 48,
   "id": "5b0f6b87",
   "metadata": {},
   "outputs": [
    {
     "data": {
      "text/plain": [
       "60.0"
      ]
     },
     "execution_count": 48,
     "metadata": {},
     "output_type": "execute_result"
    }
   ],
   "source": [
    "np.median(arr)"
   ]
  },
  {
   "cell_type": "code",
   "execution_count": 49,
   "id": "58bb2e65",
   "metadata": {},
   "outputs": [
    {
     "data": {
      "text/plain": [
       "30.296477405960523"
      ]
     },
     "execution_count": 49,
     "metadata": {},
     "output_type": "execute_result"
    }
   ],
   "source": [
    "np.std(arr)"
   ]
  },
  {
   "cell_type": "code",
   "execution_count": 50,
   "id": "739724f5",
   "metadata": {},
   "outputs": [
    {
     "data": {
      "text/plain": [
       "917.8765432098766"
      ]
     },
     "execution_count": 50,
     "metadata": {},
     "output_type": "execute_result"
    }
   ],
   "source": [
    "np.var(arr)"
   ]
  },
  {
   "cell_type": "markdown",
   "id": "7e6d48dc",
   "metadata": {},
   "source": [
    "# Array Broadcasting in Numpy"
   ]
  },
  {
   "cell_type": "code",
   "execution_count": 51,
   "id": "035f468f",
   "metadata": {},
   "outputs": [],
   "source": [
    "a = np.array([1.0, 2.0, 3.0])\n",
    "b = np.array([2.0, 2.0, 2.0])"
   ]
  },
  {
   "cell_type": "code",
   "execution_count": 52,
   "id": "cf66a614",
   "metadata": {},
   "outputs": [
    {
     "data": {
      "text/plain": [
       "array([3., 4., 5.])"
      ]
     },
     "execution_count": 52,
     "metadata": {},
     "output_type": "execute_result"
    }
   ],
   "source": [
    "a+b"
   ]
  },
  {
   "cell_type": "code",
   "execution_count": 53,
   "id": "48bec29c",
   "metadata": {},
   "outputs": [
    {
     "data": {
      "text/plain": [
       "array([2., 4., 6.])"
      ]
     },
     "execution_count": 53,
     "metadata": {},
     "output_type": "execute_result"
    }
   ],
   "source": [
    "a*b"
   ]
  },
  {
   "cell_type": "code",
   "execution_count": null,
   "id": "242bafe0",
   "metadata": {},
   "outputs": [],
   "source": []
  }
 ],
 "metadata": {
  "kernelspec": {
   "display_name": "Python 3 (ipykernel)",
   "language": "python",
   "name": "python3"
  },
  "language_info": {
   "codemirror_mode": {
    "name": "ipython",
    "version": 3
   },
   "file_extension": ".py",
   "mimetype": "text/x-python",
   "name": "python",
   "nbconvert_exporter": "python",
   "pygments_lexer": "ipython3",
   "version": "3.9.12"
  }
 },
 "nbformat": 4,
 "nbformat_minor": 5
}
